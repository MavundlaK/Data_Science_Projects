{
 "cells": [
  {
   "cell_type": "code",
   "execution_count": 5,
   "id": "504b63c2-8691-4f63-9066-84c66515dc69",
   "metadata": {},
   "outputs": [
    {
     "name": "stdin",
     "output_type": "stream",
     "text": [
      "Enter your email:  khulekani.mavundla@gmail.com\n",
      "Enter Your OTP >>:  248324\n"
     ]
    },
    {
     "name": "stdout",
     "output_type": "stream",
     "text": [
      "Verified\n"
     ]
    }
   ],
   "source": [
    "import os\n",
    "import math\n",
    "import random\n",
    "import smtplib\n",
    "\n",
    "digits=\"0123456789\"\n",
    "OTP=\"\"\n",
    "for i in range(6):\n",
    "    OTP+=digits[math.floor(random.random()*10)]\n",
    "otp = OTP + \" is your OTP\"\n",
    "msg= otp\n",
    "s = smtplib.SMTP('smtp.gmail.com', 587)\n",
    "s.starttls()\n",
    "s.login(\"khulekani.mavundla@gmail.com\", \"bmbtbijchnkwloqq\")\n",
    "emailid = input(\"Enter your email: \")\n",
    "s.sendmail('bmbtbijchnkwloqq',emailid,msg)\n",
    "a = input(\"Enter Your OTP >>: \")\n",
    "if a == OTP:\n",
    "    print(\"Verified\")\n",
    "else:\n",
    "    print(\"Please Check your OTP again\")"
   ]
  },
  {
   "cell_type": "code",
   "execution_count": null,
   "id": "2ecbea44-52d5-496a-9f22-15e44a38cea7",
   "metadata": {},
   "outputs": [],
   "source": []
  }
 ],
 "metadata": {
  "kernelspec": {
   "display_name": "Python 3",
   "language": "python",
   "name": "python3"
  },
  "language_info": {
   "codemirror_mode": {
    "name": "ipython",
    "version": 3
   },
   "file_extension": ".py",
   "mimetype": "text/x-python",
   "name": "python",
   "nbconvert_exporter": "python",
   "pygments_lexer": "ipython3",
   "version": "3.8.8"
  }
 },
 "nbformat": 4,
 "nbformat_minor": 5
}
