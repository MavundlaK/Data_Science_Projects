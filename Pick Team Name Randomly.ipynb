{
 "cells": [
  {
   "cell_type": "code",
   "execution_count": null,
   "id": "8e7b4188-2723-4766-ba73-c2e2403c1f5f",
   "metadata": {},
   "outputs": [],
   "source": [
    "import random\n",
    "\n",
    "team_names = ['Apollo', 'Carbon', 'DBA, DA & BI', 'Fusion', 'Green', 'Yellow', 'Dynamo']\n",
    "default_name = 'Default item: Updates from IT Managers'\n",
    "\n",
    "color = {\n",
    "    'Apollo': '\\033[91m',\n",
    "    'Carbon': '\\033[92m',\n",
    "    'DBA, DA & BI': '\\033[94m',\n",
    "    'Fusion': '\\033[93m',\n",
    "    'Green': '\\033[32m',\n",
    "    'Yellow': '\\033[33m',\n",
    "    'Dynamo': '\\033[35m',\n",
    "}\n",
    "\n",
    "def pick_random_name(team_names):\n",
    "    count = 0\n",
    "\n",
    "    print(f\"{count}. {color.get(default_name, '')}{default_name}\\033[0m\")\n",
    "\n",
    "    while team_names:\n",
    "        input(\"Press Enter to pick a team name randomly...\")\n",
    "        random_name = random.choice(team_names)\n",
    "        team_names.remove(random_name)\n",
    "        count += 1\n",
    "        print(f\"{count}. {color.get(random_name, '')}{random_name}\\033[0m\")\n",
    "\n",
    "    print(\"Thank you! All teams have been presented.\")\n",
    "\n",
    "pick_random_name(team_names)\n"
   ]
  }
 ],
 "metadata": {
  "kernelspec": {
   "display_name": "Python 3",
   "language": "python",
   "name": "python3"
  },
  "language_info": {
   "codemirror_mode": {
    "name": "ipython",
    "version": 3
   },
   "file_extension": ".py",
   "mimetype": "text/x-python",
   "name": "python",
   "nbconvert_exporter": "python",
   "pygments_lexer": "ipython3",
   "version": "3.8.8"
  }
 },
 "nbformat": 4,
 "nbformat_minor": 5
}
